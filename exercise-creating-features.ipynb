{
 "cells": [
  {
   "cell_type": "markdown",
   "id": "fc198d10",
   "metadata": {
    "papermill": {
     "duration": 0.020065,
     "end_time": "2022-05-04T08:37:46.423489",
     "exception": false,
     "start_time": "2022-05-04T08:37:46.403424",
     "status": "completed"
    },
    "tags": []
   },
   "source": [
    "**This notebook is an exercise in the [Feature Engineering](https://www.kaggle.com/learn/feature-engineering) course.  You can reference the tutorial at [this link](https://www.kaggle.com/ryanholbrook/creating-features).**\n",
    "\n",
    "---\n"
   ]
  },
  {
   "cell_type": "markdown",
   "id": "cd866c7e",
   "metadata": {
    "papermill": {
     "duration": 0.014419,
     "end_time": "2022-05-04T08:37:46.452730",
     "exception": false,
     "start_time": "2022-05-04T08:37:46.438311",
     "status": "completed"
    },
    "tags": []
   },
   "source": [
    "# Introduction #\n",
    "\n",
    "In this exercise you'll start developing the features you identified in Exercise 2 as having the most potential. As you work through this exercise, you might take a moment to look at the data documentation again and consider whether the features we're creating make sense from a real-world perspective, and whether there are any useful combinations that stand out to you.\n",
    "\n",
    "Run this cell to set everything up!"
   ]
  },
  {
   "cell_type": "code",
   "execution_count": 1,
   "id": "828de462",
   "metadata": {
    "execution": {
     "iopub.execute_input": "2022-05-04T08:37:46.483970Z",
     "iopub.status.busy": "2022-05-04T08:37:46.483442Z",
     "iopub.status.idle": "2022-05-04T08:37:47.758515Z",
     "shell.execute_reply": "2022-05-04T08:37:47.757601Z"
    },
    "papermill": {
     "duration": 1.293494,
     "end_time": "2022-05-04T08:37:47.760889",
     "exception": false,
     "start_time": "2022-05-04T08:37:46.467395",
     "status": "completed"
    },
    "tags": []
   },
   "outputs": [],
   "source": [
    "# Setup feedback system\n",
    "from learntools.core import binder\n",
    "binder.bind(globals())\n",
    "from learntools.feature_engineering_new.ex3 import *\n",
    "\n",
    "import numpy as np\n",
    "import pandas as pd\n",
    "from sklearn.model_selection import cross_val_score\n",
    "from xgboost import XGBRegressor\n",
    "\n",
    "\n",
    "def score_dataset(X, y, model=XGBRegressor()):\n",
    "    # Label encoding for categoricals\n",
    "    for colname in X.select_dtypes([\"category\", \"object\"]):\n",
    "        X[colname], _ = X[colname].factorize()\n",
    "    # Metric for Housing competition is RMSLE (Root Mean Squared Log Error)\n",
    "    score = cross_val_score(\n",
    "        model, X, y, cv=5, scoring=\"neg_mean_squared_log_error\",\n",
    "    )\n",
    "    score = -1 * score.mean()\n",
    "    score = np.sqrt(score)\n",
    "    return score\n",
    "\n",
    "\n",
    "# Prepare data\n",
    "df = pd.read_csv(\"../input/fe-course-data/ames.csv\")\n",
    "X = df.copy()\n",
    "y = X.pop(\"SalePrice\")"
   ]
  },
  {
   "cell_type": "markdown",
   "id": "e9e266f3",
   "metadata": {
    "papermill": {
     "duration": 0.014451,
     "end_time": "2022-05-04T08:37:47.790159",
     "exception": false,
     "start_time": "2022-05-04T08:37:47.775708",
     "status": "completed"
    },
    "tags": []
   },
   "source": [
    "-------------------------------------------------------------------------------\n",
    "\n",
    "Let's start with a few mathematical combinations. We'll focus on features describing areas -- having the same units (square-feet) makes it easy to combine them in sensible ways. Since we're using XGBoost (a tree-based model), we'll focus on ratios and sums.\n",
    "\n",
    "# 1) Create Mathematical Transforms\n",
    "\n",
    "Create the following features:\n",
    "\n",
    "- `LivLotRatio`: the ratio of `GrLivArea` to `LotArea`\n",
    "- `Spaciousness`: the sum of `FirstFlrSF` and `SecondFlrSF` divided by `TotRmsAbvGrd`\n",
    "- `TotalOutsideSF`: the sum of `WoodDeckSF`, `OpenPorchSF`, `EnclosedPorch`, `Threeseasonporch`, and `ScreenPorch`"
   ]
  },
  {
   "cell_type": "code",
   "execution_count": 2,
   "id": "27d2af22",
   "metadata": {
    "execution": {
     "iopub.execute_input": "2022-05-04T08:37:47.820978Z",
     "iopub.status.busy": "2022-05-04T08:37:47.820467Z",
     "iopub.status.idle": "2022-05-04T08:37:47.840751Z",
     "shell.execute_reply": "2022-05-04T08:37:47.840188Z"
    },
    "lines_to_next_cell": 0,
    "papermill": {
     "duration": 0.037676,
     "end_time": "2022-05-04T08:37:47.842261",
     "exception": false,
     "start_time": "2022-05-04T08:37:47.804585",
     "status": "completed"
    },
    "tags": []
   },
   "outputs": [
    {
     "data": {
      "application/javascript": [
       "parent.postMessage({\"jupyterEvent\": \"custom.exercise_interaction\", \"data\": {\"outcomeType\": 1, \"valueTowardsCompletion\": 0.2, \"interactionType\": 1, \"questionType\": 2, \"questionId\": \"1_Q1\", \"learnToolsVersion\": \"0.3.4\", \"failureMessage\": \"\", \"exceptionClass\": \"\", \"trace\": \"\"}}, \"*\")"
      ],
      "text/plain": [
       "<IPython.core.display.Javascript object>"
      ]
     },
     "metadata": {},
     "output_type": "display_data"
    },
    {
     "data": {
      "text/markdown": [
       "<span style=\"color:#33cc33\">Correct</span>"
      ],
      "text/plain": [
       "Correct"
      ]
     },
     "metadata": {},
     "output_type": "display_data"
    }
   ],
   "source": [
    "# YOUR CODE HERE\n",
    "X_1 = pd.DataFrame()  # dataframe to hold new features\n",
    "\n",
    "X_1[\"LivLotRatio\"] = df.GrLivArea / df.LotArea\n",
    "X_1[\"Spaciousness\"] = (df.FirstFlrSF + df.SecondFlrSF) / df.TotRmsAbvGrd\n",
    "X_1[\"TotalOutsideSF\"] = df.WoodDeckSF + df.OpenPorchSF + df.EnclosedPorch + df.Threeseasonporch + df.ScreenPorch\n",
    "\n",
    "\n",
    "# Check your answer\n",
    "q_1.check()"
   ]
  },
  {
   "cell_type": "code",
   "execution_count": 3,
   "id": "f9275fb3",
   "metadata": {
    "execution": {
     "iopub.execute_input": "2022-05-04T08:37:47.875749Z",
     "iopub.status.busy": "2022-05-04T08:37:47.875217Z",
     "iopub.status.idle": "2022-05-04T08:37:47.878243Z",
     "shell.execute_reply": "2022-05-04T08:37:47.877508Z"
    },
    "lines_to_next_cell": 0,
    "papermill": {
     "duration": 0.021494,
     "end_time": "2022-05-04T08:37:47.879845",
     "exception": false,
     "start_time": "2022-05-04T08:37:47.858351",
     "status": "completed"
    },
    "tags": []
   },
   "outputs": [],
   "source": [
    "# Lines below will give you a hint or solution code\n",
    "#q_1.hint()\n",
    "# q_1.solution()"
   ]
  },
  {
   "cell_type": "markdown",
   "id": "cd850b5a",
   "metadata": {
    "papermill": {
     "duration": 0.015348,
     "end_time": "2022-05-04T08:37:47.911235",
     "exception": false,
     "start_time": "2022-05-04T08:37:47.895887",
     "status": "completed"
    },
    "tags": []
   },
   "source": [
    "-------------------------------------------------------------------------------\n",
    "\n",
    "If you've discovered an interaction effect between a numeric feature and a categorical feature, you might want to model it explicitly using a one-hot encoding, like so:\n",
    "\n",
    "```\n",
    "# One-hot encode Categorical feature, adding a column prefix \"Cat\"\n",
    "X_new = pd.get_dummies(df.Categorical, prefix=\"Cat\")\n",
    "\n",
    "# Multiply row-by-row\n",
    "X_new = X_new.mul(df.Continuous, axis=0)\n",
    "\n",
    "# Join the new features to the feature set\n",
    "X = X.join(X_new)\n",
    "```\n",
    "\n",
    "# 2) Interaction with a Categorical\n",
    "\n",
    "We discovered an interaction between `BldgType` and `GrLivArea` in Exercise 2. Now create their interaction features."
   ]
  },
  {
   "cell_type": "code",
   "execution_count": 4,
   "id": "10d0995a",
   "metadata": {
    "execution": {
     "iopub.execute_input": "2022-05-04T08:37:47.943878Z",
     "iopub.status.busy": "2022-05-04T08:37:47.943369Z",
     "iopub.status.idle": "2022-05-04T08:37:47.953900Z",
     "shell.execute_reply": "2022-05-04T08:37:47.953371Z"
    },
    "lines_to_next_cell": 0,
    "papermill": {
     "duration": 0.028664,
     "end_time": "2022-05-04T08:37:47.955414",
     "exception": false,
     "start_time": "2022-05-04T08:37:47.926750",
     "status": "completed"
    },
    "tags": []
   },
   "outputs": [
    {
     "data": {
      "application/javascript": [
       "parent.postMessage({\"jupyterEvent\": \"custom.exercise_interaction\", \"data\": {\"outcomeType\": 1, \"valueTowardsCompletion\": 0.2, \"interactionType\": 1, \"questionType\": 2, \"questionId\": \"2_Q2\", \"learnToolsVersion\": \"0.3.4\", \"failureMessage\": \"\", \"exceptionClass\": \"\", \"trace\": \"\"}}, \"*\")"
      ],
      "text/plain": [
       "<IPython.core.display.Javascript object>"
      ]
     },
     "metadata": {},
     "output_type": "display_data"
    },
    {
     "data": {
      "text/markdown": [
       "<span style=\"color:#33cc33\">Correct</span>"
      ],
      "text/plain": [
       "Correct"
      ]
     },
     "metadata": {},
     "output_type": "display_data"
    }
   ],
   "source": [
    "# YOUR CODE HERE\n",
    "# One-hot encode BldgType. Use `prefix=\"Bldg\"` in `get_dummies`\n",
    "X_2 = pd.get_dummies(df.BldgType, prefix=\"Bldg\")\n",
    "# Multiply\n",
    "X_2 =  X_2.mul(df.GrLivArea, axis=0)\n",
    "\n",
    "\n",
    "# Check your answer\n",
    "q_2.check()"
   ]
  },
  {
   "cell_type": "code",
   "execution_count": 5,
   "id": "032b58e7",
   "metadata": {
    "execution": {
     "iopub.execute_input": "2022-05-04T08:37:48.003078Z",
     "iopub.status.busy": "2022-05-04T08:37:48.002544Z",
     "iopub.status.idle": "2022-05-04T08:37:48.006815Z",
     "shell.execute_reply": "2022-05-04T08:37:48.006013Z"
    },
    "lines_to_next_cell": 0,
    "papermill": {
     "duration": 0.028416,
     "end_time": "2022-05-04T08:37:48.008703",
     "exception": false,
     "start_time": "2022-05-04T08:37:47.980287",
     "status": "completed"
    },
    "tags": []
   },
   "outputs": [],
   "source": [
    "# Lines below will give you a hint or solution code\n",
    "#q_2.hint()\n",
    "#q_2.solution()"
   ]
  },
  {
   "cell_type": "markdown",
   "id": "4de355ff",
   "metadata": {
    "lines_to_next_cell": 0,
    "papermill": {
     "duration": 0.018136,
     "end_time": "2022-05-04T08:37:48.054896",
     "exception": false,
     "start_time": "2022-05-04T08:37:48.036760",
     "status": "completed"
    },
    "tags": []
   },
   "source": [
    "# 3) Count Feature\n",
    "\n",
    "Let's try creating a feature that describes how many kinds of outdoor areas a dwelling has. Create a feature `PorchTypes` that counts how many of the following are greater than 0.0:\n",
    "\n",
    "```\n",
    "WoodDeckSF\n",
    "OpenPorchSF\n",
    "EnclosedPorch\n",
    "Threeseasonporch\n",
    "ScreenPorch\n",
    "```"
   ]
  },
  {
   "cell_type": "code",
   "execution_count": 6,
   "id": "c5987263",
   "metadata": {
    "execution": {
     "iopub.execute_input": "2022-05-04T08:37:48.097133Z",
     "iopub.status.busy": "2022-05-04T08:37:48.096431Z",
     "iopub.status.idle": "2022-05-04T08:37:48.113190Z",
     "shell.execute_reply": "2022-05-04T08:37:48.112334Z"
    },
    "lines_to_next_cell": 0,
    "papermill": {
     "duration": 0.037393,
     "end_time": "2022-05-04T08:37:48.115077",
     "exception": false,
     "start_time": "2022-05-04T08:37:48.077684",
     "status": "completed"
    },
    "tags": []
   },
   "outputs": [
    {
     "data": {
      "application/javascript": [
       "parent.postMessage({\"jupyterEvent\": \"custom.exercise_interaction\", \"data\": {\"outcomeType\": 1, \"valueTowardsCompletion\": 0.2, \"interactionType\": 1, \"questionType\": 2, \"questionId\": \"3_Q3\", \"learnToolsVersion\": \"0.3.4\", \"failureMessage\": \"\", \"exceptionClass\": \"\", \"trace\": \"\"}}, \"*\")"
      ],
      "text/plain": [
       "<IPython.core.display.Javascript object>"
      ]
     },
     "metadata": {},
     "output_type": "display_data"
    },
    {
     "data": {
      "text/markdown": [
       "<span style=\"color:#33cc33\">Correct</span>"
      ],
      "text/plain": [
       "Correct"
      ]
     },
     "metadata": {},
     "output_type": "display_data"
    }
   ],
   "source": [
    "X_3 = pd.DataFrame()\n",
    "\n",
    "# YOUR CODE HERE\n",
    "X_3[\"PorchTypes\"] = df[[\n",
    "    \"WoodDeckSF\",\n",
    "    \"OpenPorchSF\",\n",
    "    \"EnclosedPorch\",\n",
    "    \"Threeseasonporch\",\n",
    "    \"ScreenPorch\",\n",
    "]].gt(0.0).sum(axis=1)\n",
    "\n",
    "\n",
    "# Check your answer\n",
    "q_3.check()"
   ]
  },
  {
   "cell_type": "code",
   "execution_count": 7,
   "id": "a15f7a59",
   "metadata": {
    "execution": {
     "iopub.execute_input": "2022-05-04T08:37:48.152303Z",
     "iopub.status.busy": "2022-05-04T08:37:48.151768Z",
     "iopub.status.idle": "2022-05-04T08:37:48.155187Z",
     "shell.execute_reply": "2022-05-04T08:37:48.154639Z"
    },
    "lines_to_next_cell": 0,
    "papermill": {
     "duration": 0.023557,
     "end_time": "2022-05-04T08:37:48.156831",
     "exception": false,
     "start_time": "2022-05-04T08:37:48.133274",
     "status": "completed"
    },
    "tags": []
   },
   "outputs": [],
   "source": [
    "# Lines below will give you a hint or solution code\n",
    "#q_3.hint()\n",
    "#q_3.solution()"
   ]
  },
  {
   "cell_type": "markdown",
   "id": "9eaef454",
   "metadata": {
    "papermill": {
     "duration": 0.017368,
     "end_time": "2022-05-04T08:37:48.191495",
     "exception": false,
     "start_time": "2022-05-04T08:37:48.174127",
     "status": "completed"
    },
    "tags": []
   },
   "source": [
    "# 4) Break Down a Categorical Feature\n",
    "\n",
    "`MSSubClass` describes the type of a dwelling:"
   ]
  },
  {
   "cell_type": "code",
   "execution_count": 8,
   "id": "0b91a3fc",
   "metadata": {
    "execution": {
     "iopub.execute_input": "2022-05-04T08:37:48.228493Z",
     "iopub.status.busy": "2022-05-04T08:37:48.227969Z",
     "iopub.status.idle": "2022-05-04T08:37:48.234781Z",
     "shell.execute_reply": "2022-05-04T08:37:48.234015Z"
    },
    "papermill": {
     "duration": 0.02723,
     "end_time": "2022-05-04T08:37:48.236584",
     "exception": false,
     "start_time": "2022-05-04T08:37:48.209354",
     "status": "completed"
    },
    "tags": []
   },
   "outputs": [
    {
     "data": {
      "text/plain": [
       "array(['One_Story_1946_and_Newer_All_Styles', 'Two_Story_1946_and_Newer',\n",
       "       'One_Story_PUD_1946_and_Newer',\n",
       "       'One_and_Half_Story_Finished_All_Ages', 'Split_Foyer',\n",
       "       'Two_Story_PUD_1946_and_Newer', 'Split_or_Multilevel',\n",
       "       'One_Story_1945_and_Older', 'Duplex_All_Styles_and_Ages',\n",
       "       'Two_Family_conversion_All_Styles_and_Ages',\n",
       "       'One_and_Half_Story_Unfinished_All_Ages',\n",
       "       'Two_Story_1945_and_Older', 'Two_and_Half_Story_All_Ages',\n",
       "       'One_Story_with_Finished_Attic_All_Ages',\n",
       "       'PUD_Multilevel_Split_Level_Foyer',\n",
       "       'One_and_Half_Story_PUD_All_Ages'], dtype=object)"
      ]
     },
     "execution_count": 8,
     "metadata": {},
     "output_type": "execute_result"
    }
   ],
   "source": [
    "df.MSSubClass.unique()"
   ]
  },
  {
   "cell_type": "markdown",
   "id": "88a33b13",
   "metadata": {
    "papermill": {
     "duration": 0.017753,
     "end_time": "2022-05-04T08:37:48.272041",
     "exception": false,
     "start_time": "2022-05-04T08:37:48.254288",
     "status": "completed"
    },
    "tags": []
   },
   "source": [
    "You can see that there is a more general categorization described (roughly) by the first word of each category. Create a feature containing only these first words by splitting `MSSubClass` at the first underscore `_`. (Hint: In the `split` method use an argument `n=1`.)"
   ]
  },
  {
   "cell_type": "code",
   "execution_count": 9,
   "id": "f7191164",
   "metadata": {
    "execution": {
     "iopub.execute_input": "2022-05-04T08:37:48.309643Z",
     "iopub.status.busy": "2022-05-04T08:37:48.309129Z",
     "iopub.status.idle": "2022-05-04T08:37:48.329330Z",
     "shell.execute_reply": "2022-05-04T08:37:48.328636Z"
    },
    "lines_to_next_cell": 0,
    "papermill": {
     "duration": 0.040869,
     "end_time": "2022-05-04T08:37:48.331009",
     "exception": false,
     "start_time": "2022-05-04T08:37:48.290140",
     "status": "completed"
    },
    "tags": []
   },
   "outputs": [
    {
     "data": {
      "application/javascript": [
       "parent.postMessage({\"jupyterEvent\": \"custom.exercise_interaction\", \"data\": {\"outcomeType\": 1, \"valueTowardsCompletion\": 0.2, \"interactionType\": 1, \"questionType\": 2, \"questionId\": \"4_Q4\", \"learnToolsVersion\": \"0.3.4\", \"failureMessage\": \"\", \"exceptionClass\": \"\", \"trace\": \"\"}}, \"*\")"
      ],
      "text/plain": [
       "<IPython.core.display.Javascript object>"
      ]
     },
     "metadata": {},
     "output_type": "display_data"
    },
    {
     "data": {
      "text/markdown": [
       "<span style=\"color:#33cc33\">Correct</span>"
      ],
      "text/plain": [
       "Correct"
      ]
     },
     "metadata": {},
     "output_type": "display_data"
    }
   ],
   "source": [
    "X_4 = pd.DataFrame()\n",
    "\n",
    "# YOUR CODE HERE\n",
    "X_4 = pd.DataFrame()\n",
    "\n",
    "X_4[\"MSClass\"] = df.MSSubClass.str.split(\"_\", n=1, expand=True)[0]\n",
    "\n",
    "# Check your answer\n",
    "q_4.check()"
   ]
  },
  {
   "cell_type": "code",
   "execution_count": 10,
   "id": "8b068976",
   "metadata": {
    "execution": {
     "iopub.execute_input": "2022-05-04T08:37:48.369918Z",
     "iopub.status.busy": "2022-05-04T08:37:48.369418Z",
     "iopub.status.idle": "2022-05-04T08:37:48.372792Z",
     "shell.execute_reply": "2022-05-04T08:37:48.372307Z"
    },
    "lines_to_next_cell": 0,
    "papermill": {
     "duration": 0.024664,
     "end_time": "2022-05-04T08:37:48.374378",
     "exception": false,
     "start_time": "2022-05-04T08:37:48.349714",
     "status": "completed"
    },
    "tags": []
   },
   "outputs": [],
   "source": [
    "# Lines below will give you a hint or solution code\n",
    "#q_4.hint()\n",
    "#q_4.solution()"
   ]
  },
  {
   "cell_type": "markdown",
   "id": "3c412527",
   "metadata": {
    "papermill": {
     "duration": 0.018189,
     "end_time": "2022-05-04T08:37:48.410962",
     "exception": false,
     "start_time": "2022-05-04T08:37:48.392773",
     "status": "completed"
    },
    "tags": []
   },
   "source": [
    "# 5) Use a Grouped Transform\n",
    "\n",
    "The value of a home often depends on how it compares to typical homes in its neighborhood. Create a feature `MedNhbdArea` that describes the *median* of `GrLivArea` grouped on `Neighborhood`."
   ]
  },
  {
   "cell_type": "code",
   "execution_count": 11,
   "id": "1c09e92a",
   "metadata": {
    "execution": {
     "iopub.execute_input": "2022-05-04T08:37:48.449871Z",
     "iopub.status.busy": "2022-05-04T08:37:48.449373Z",
     "iopub.status.idle": "2022-05-04T08:37:48.465370Z",
     "shell.execute_reply": "2022-05-04T08:37:48.464733Z"
    },
    "lines_to_next_cell": 0,
    "papermill": {
     "duration": 0.037459,
     "end_time": "2022-05-04T08:37:48.467072",
     "exception": false,
     "start_time": "2022-05-04T08:37:48.429613",
     "status": "completed"
    },
    "tags": []
   },
   "outputs": [
    {
     "data": {
      "application/javascript": [
       "parent.postMessage({\"jupyterEvent\": \"custom.exercise_interaction\", \"data\": {\"outcomeType\": 1, \"valueTowardsCompletion\": 0.2, \"interactionType\": 1, \"questionType\": 2, \"questionId\": \"5_Q5\", \"learnToolsVersion\": \"0.3.4\", \"failureMessage\": \"\", \"exceptionClass\": \"\", \"trace\": \"\"}}, \"*\")"
      ],
      "text/plain": [
       "<IPython.core.display.Javascript object>"
      ]
     },
     "metadata": {},
     "output_type": "display_data"
    },
    {
     "data": {
      "text/markdown": [
       "<span style=\"color:#33cc33\">Correct</span>"
      ],
      "text/plain": [
       "Correct"
      ]
     },
     "metadata": {},
     "output_type": "display_data"
    }
   ],
   "source": [
    "X_5 = pd.DataFrame()\n",
    "\n",
    "# YOUR CODE HERE\n",
    "X_5 = pd.DataFrame()\n",
    "\n",
    "X_5[\"MedNhbdArea\"] = df.groupby(\"Neighborhood\")[\"GrLivArea\"].transform(\"median\")\n",
    "\n",
    "# Check your answer\n",
    "q_5.check()"
   ]
  },
  {
   "cell_type": "code",
   "execution_count": 12,
   "id": "9e3e6512",
   "metadata": {
    "execution": {
     "iopub.execute_input": "2022-05-04T08:37:48.507720Z",
     "iopub.status.busy": "2022-05-04T08:37:48.507232Z",
     "iopub.status.idle": "2022-05-04T08:37:48.510542Z",
     "shell.execute_reply": "2022-05-04T08:37:48.510018Z"
    },
    "lines_to_next_cell": 0,
    "papermill": {
     "duration": 0.025683,
     "end_time": "2022-05-04T08:37:48.512218",
     "exception": false,
     "start_time": "2022-05-04T08:37:48.486535",
     "status": "completed"
    },
    "tags": []
   },
   "outputs": [],
   "source": [
    "# Lines below will give you a hint or solution code\n",
    "#q_5.hint()\n",
    "#q_5.solution()"
   ]
  },
  {
   "cell_type": "markdown",
   "id": "b870a9ad",
   "metadata": {
    "papermill": {
     "duration": 0.019225,
     "end_time": "2022-05-04T08:37:48.550583",
     "exception": false,
     "start_time": "2022-05-04T08:37:48.531358",
     "status": "completed"
    },
    "tags": []
   },
   "source": [
    "Now you've made your first new feature set! If you like, you can run the cell below to score the model with all of your new features added:"
   ]
  },
  {
   "cell_type": "code",
   "execution_count": 13,
   "id": "fd964565",
   "metadata": {
    "execution": {
     "iopub.execute_input": "2022-05-04T08:37:48.591248Z",
     "iopub.status.busy": "2022-05-04T08:37:48.590717Z",
     "iopub.status.idle": "2022-05-04T08:37:54.184601Z",
     "shell.execute_reply": "2022-05-04T08:37:54.183714Z"
    },
    "papermill": {
     "duration": 5.616815,
     "end_time": "2022-05-04T08:37:54.186897",
     "exception": false,
     "start_time": "2022-05-04T08:37:48.570082",
     "status": "completed"
    },
    "tags": []
   },
   "outputs": [
    {
     "data": {
      "text/plain": [
       "0.13847331710099203"
      ]
     },
     "execution_count": 13,
     "metadata": {},
     "output_type": "execute_result"
    }
   ],
   "source": [
    "X_new = X.join([X_1, X_2, X_3, X_4, X_5])\n",
    "score_dataset(X_new, y)"
   ]
  },
  {
   "cell_type": "markdown",
   "id": "87aa03dc",
   "metadata": {
    "papermill": {
     "duration": 0.019773,
     "end_time": "2022-05-04T08:37:54.226855",
     "exception": false,
     "start_time": "2022-05-04T08:37:54.207082",
     "status": "completed"
    },
    "tags": []
   },
   "source": [
    "# Keep Going #\n",
    "\n",
    "[**Untangle spatial relationships**](https://www.kaggle.com/ryanholbrook/clustering-with-k-means) by adding cluster labels to your dataset."
   ]
  }
 ],
 "metadata": {
  "kernelspec": {
   "display_name": "Python 3",
   "language": "python",
   "name": "python3"
  },
  "language_info": {
   "codemirror_mode": {
    "name": "ipython",
    "version": 3
   },
   "file_extension": ".py",
   "mimetype": "text/x-python",
   "name": "python",
   "nbconvert_exporter": "python",
   "pygments_lexer": "ipython3",
   "version": "3.7.12"
  },
  "papermill": {
   "default_parameters": {},
   "duration": 16.534781,
   "end_time": "2022-05-04T08:37:54.967144",
   "environment_variables": {},
   "exception": null,
   "input_path": "__notebook__.ipynb",
   "output_path": "__notebook__.ipynb",
   "parameters": {},
   "start_time": "2022-05-04T08:37:38.432363",
   "version": "2.3.4"
  }
 },
 "nbformat": 4,
 "nbformat_minor": 5
}
